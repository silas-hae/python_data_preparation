{
 "cells": [
  {
   "cell_type": "markdown",
   "id": "3272230e",
   "metadata": {},
   "source": [
    "# Advanced Data Preparation with Python (Car Data)"
   ]
  },
  {
   "cell_type": "markdown",
   "id": "c0e6a164",
   "metadata": {},
   "source": [
    "## Libraries and settings"
   ]
  },
  {
   "cell_type": "code",
   "execution_count": 1,
   "id": "08b11b70",
   "metadata": {},
   "outputs": [
    {
     "name": "stdout",
     "output_type": "stream",
     "text": [
      "/workspaces/python_data_preparation\n"
     ]
    }
   ],
   "source": [
    "# Libraries\n",
    "import os\n",
    "import re\n",
    "import time\n",
    "import fnmatch\n",
    "import numpy as np\n",
    "import pandas as pd\n",
    "import seaborn as sns\n",
    "from datetime import datetime\n",
    "import matplotlib.pyplot as plt\n",
    "\n",
    "# Ignore warnings\n",
    "import warnings\n",
    "warnings.filterwarnings(\"ignore\")\n",
    "\n",
    "# Get current working directory\n",
    "print(os.getcwd())"
   ]
  },
  {
   "cell_type": "markdown",
   "id": "2a7bff4a",
   "metadata": {},
   "source": [
    "## Importing data"
   ]
  },
  {
   "cell_type": "code",
   "execution_count": 2,
   "id": "63836335",
   "metadata": {},
   "outputs": [
    {
     "data": {
      "text/html": [
       "<div>\n",
       "<style scoped>\n",
       "    .dataframe tbody tr th:only-of-type {\n",
       "        vertical-align: middle;\n",
       "    }\n",
       "\n",
       "    .dataframe tbody tr th {\n",
       "        vertical-align: top;\n",
       "    }\n",
       "\n",
       "    .dataframe thead th {\n",
       "        text-align: right;\n",
       "    }\n",
       "</style>\n",
       "<table border=\"1\" class=\"dataframe\">\n",
       "  <thead>\n",
       "    <tr style=\"text-align: right;\">\n",
       "      <th></th>\n",
       "      <th>url_short</th>\n",
       "      <th>offer_id</th>\n",
       "      <th>scrape_dt</th>\n",
       "      <th>type</th>\n",
       "      <th>price_raw</th>\n",
       "      <th>hp_raw</th>\n",
       "      <th>init_regist</th>\n",
       "      <th>mileage_raw</th>\n",
       "      <th>fuel_type</th>\n",
       "      <th>transmission</th>\n",
       "      <th>dealer_name</th>\n",
       "      <th>dealer_plz</th>\n",
       "      <th>dealer_city</th>\n",
       "      <th>dealer_street_house_nr</th>\n",
       "      <th>dealer_telnr</th>\n",
       "      <th>init_regist_my</th>\n",
       "      <th>init_regist_month</th>\n",
       "      <th>init_regist_year</th>\n",
       "      <th>init_regist_dt</th>\n",
       "    </tr>\n",
       "  </thead>\n",
       "  <tbody>\n",
       "    <tr>\n",
       "      <th>0</th>\n",
       "      <td>https://www.autoscout24.ch/7324420</td>\n",
       "      <td>7324420</td>\n",
       "      <td>2020_03_17 07:34:45</td>\n",
       "      <td>AUDI A5 Sportback 3.0 TDI quattro S-tronic (Li...</td>\n",
       "      <td>CHF 22'500.–</td>\n",
       "      <td>245 PS</td>\n",
       "      <td>10.2014</td>\n",
       "      <td>75'000 km</td>\n",
       "      <td>Diesel</td>\n",
       "      <td>Automatisiertes Schaltgetriebe</td>\n",
       "      <td>***confidential***</td>\n",
       "      <td>8488</td>\n",
       "      <td>Turbenthal</td>\n",
       "      <td>Mettlenstrasse 3</td>\n",
       "      <td>***confidential***</td>\n",
       "      <td>10.2014</td>\n",
       "      <td>10.0</td>\n",
       "      <td>2014.0</td>\n",
       "      <td>2014-10</td>\n",
       "    </tr>\n",
       "    <tr>\n",
       "      <th>1</th>\n",
       "      <td>https://www.autoscout24.ch/7512768</td>\n",
       "      <td>7512768</td>\n",
       "      <td>2020_03_17 07:34:55</td>\n",
       "      <td>MERCEDES-BENZ SLK 200 7G-Tronic (Cabriolet)</td>\n",
       "      <td>CHF 23'749.–</td>\n",
       "      <td>184 PS</td>\n",
       "      <td>6.2013</td>\n",
       "      <td>46'655 km</td>\n",
       "      <td>Benzin</td>\n",
       "      <td>Automat sequentiell</td>\n",
       "      <td>***confidential***</td>\n",
       "      <td>3186</td>\n",
       "      <td>Düdingen</td>\n",
       "      <td>Brugerastrasse 60</td>\n",
       "      <td>***confidential***</td>\n",
       "      <td>6.2013</td>\n",
       "      <td>6.0</td>\n",
       "      <td>2013.0</td>\n",
       "      <td>2013-06</td>\n",
       "    </tr>\n",
       "    <tr>\n",
       "      <th>2</th>\n",
       "      <td>https://www.autoscout24.ch/7512034</td>\n",
       "      <td>7512034</td>\n",
       "      <td>2020_03_17 07:35:03</td>\n",
       "      <td>MERCEDES-BENZ C 350 Avantgarde 4Matic 7G-Troni...</td>\n",
       "      <td>CHF 18'500.–</td>\n",
       "      <td>306 PS</td>\n",
       "      <td>6.2011</td>\n",
       "      <td>138'955 km</td>\n",
       "      <td>Benzin</td>\n",
       "      <td>Automat sequentiell</td>\n",
       "      <td>***confidential***</td>\n",
       "      <td>1262</td>\n",
       "      <td>Eysins</td>\n",
       "      <td>1262 Eysins</td>\n",
       "      <td>***confidential***</td>\n",
       "      <td>6.2011</td>\n",
       "      <td>6.0</td>\n",
       "      <td>2011.0</td>\n",
       "      <td>2011-06</td>\n",
       "    </tr>\n",
       "    <tr>\n",
       "      <th>3</th>\n",
       "      <td>https://www.autoscout24.ch/7512728</td>\n",
       "      <td>7512728</td>\n",
       "      <td>2020_03_17 07:35:06</td>\n",
       "      <td>MERCEDES-BENZ A 45 AMG 4Matic Speedshift 7G-DC...</td>\n",
       "      <td>CHF 36'000.–</td>\n",
       "      <td>360 PS</td>\n",
       "      <td>8.2015</td>\n",
       "      <td>43'000 km</td>\n",
       "      <td>Benzin</td>\n",
       "      <td>Automatisiertes Schaltgetriebe</td>\n",
       "      <td>***confidential***</td>\n",
       "      <td>4314</td>\n",
       "      <td>Zeiningen</td>\n",
       "      <td>Am Stutz 21</td>\n",
       "      <td>***confidential***</td>\n",
       "      <td>8.2015</td>\n",
       "      <td>8.0</td>\n",
       "      <td>2015.0</td>\n",
       "      <td>2015-08</td>\n",
       "    </tr>\n",
       "    <tr>\n",
       "      <th>4</th>\n",
       "      <td>https://www.autoscout24.ch/7490242</td>\n",
       "      <td>7490242</td>\n",
       "      <td>2020_03_17 07:35:16</td>\n",
       "      <td>AUDI A5 Sportback 2.0 TFSI Sport quattro S-tro...</td>\n",
       "      <td>CHF 48'500.–</td>\n",
       "      <td>252 PS</td>\n",
       "      <td>9.2018</td>\n",
       "      <td>43'300 km</td>\n",
       "      <td>Benzin</td>\n",
       "      <td>Automatisiertes Schaltgetriebe</td>\n",
       "      <td>***confidential***</td>\n",
       "      <td>3250</td>\n",
       "      <td>Lyss</td>\n",
       "      <td>3250 Lyss</td>\n",
       "      <td>***confidential***</td>\n",
       "      <td>9.2018</td>\n",
       "      <td>9.0</td>\n",
       "      <td>2018.0</td>\n",
       "      <td>2018-09</td>\n",
       "    </tr>\n",
       "  </tbody>\n",
       "</table>\n",
       "</div>"
      ],
      "text/plain": [
       "                            url_short  offer_id            scrape_dt  \\\n",
       "0  https://www.autoscout24.ch/7324420   7324420  2020_03_17 07:34:45   \n",
       "1  https://www.autoscout24.ch/7512768   7512768  2020_03_17 07:34:55   \n",
       "2  https://www.autoscout24.ch/7512034   7512034  2020_03_17 07:35:03   \n",
       "3  https://www.autoscout24.ch/7512728   7512728  2020_03_17 07:35:06   \n",
       "4  https://www.autoscout24.ch/7490242   7490242  2020_03_17 07:35:16   \n",
       "\n",
       "                                                type     price_raw  hp_raw  \\\n",
       "0  AUDI A5 Sportback 3.0 TDI quattro S-tronic (Li...  CHF 22'500.–  245 PS   \n",
       "1        MERCEDES-BENZ SLK 200 7G-Tronic (Cabriolet)  CHF 23'749.–  184 PS   \n",
       "2  MERCEDES-BENZ C 350 Avantgarde 4Matic 7G-Troni...  CHF 18'500.–  306 PS   \n",
       "3  MERCEDES-BENZ A 45 AMG 4Matic Speedshift 7G-DC...  CHF 36'000.–  360 PS   \n",
       "4  AUDI A5 Sportback 2.0 TFSI Sport quattro S-tro...  CHF 48'500.–  252 PS   \n",
       "\n",
       "  init_regist mileage_raw fuel_type                    transmission  \\\n",
       "0     10.2014   75'000 km    Diesel  Automatisiertes Schaltgetriebe   \n",
       "1      6.2013   46'655 km    Benzin             Automat sequentiell   \n",
       "2      6.2011  138'955 km    Benzin             Automat sequentiell   \n",
       "3      8.2015   43'000 km    Benzin  Automatisiertes Schaltgetriebe   \n",
       "4      9.2018   43'300 km    Benzin  Automatisiertes Schaltgetriebe   \n",
       "\n",
       "          dealer_name  dealer_plz dealer_city dealer_street_house_nr  \\\n",
       "0  ***confidential***        8488  Turbenthal       Mettlenstrasse 3   \n",
       "1  ***confidential***        3186    Düdingen      Brugerastrasse 60   \n",
       "2  ***confidential***        1262      Eysins            1262 Eysins   \n",
       "3  ***confidential***        4314   Zeiningen            Am Stutz 21   \n",
       "4  ***confidential***        3250        Lyss              3250 Lyss   \n",
       "\n",
       "         dealer_telnr init_regist_my  init_regist_month  init_regist_year  \\\n",
       "0  ***confidential***        10.2014               10.0            2014.0   \n",
       "1  ***confidential***         6.2013                6.0            2013.0   \n",
       "2  ***confidential***         6.2011                6.0            2011.0   \n",
       "3  ***confidential***         8.2015                8.0            2015.0   \n",
       "4  ***confidential***         9.2018                9.0            2018.0   \n",
       "\n",
       "  init_regist_dt  \n",
       "0        2014-10  \n",
       "1        2013-06  \n",
       "2        2011-06  \n",
       "3        2015-08  \n",
       "4        2018-09  "
      ]
     },
     "execution_count": 2,
     "metadata": {},
     "output_type": "execute_result"
    }
   ],
   "source": [
    "# Import data from csv to pandas dataframe named 'df'\n",
    "df = pd.read_csv('./Data/autoscout24_data.csv', sep=\";\", encoding='utf-8')\n",
    "\n",
    "# Change the column names to lowercase\n",
    "df.columns = df.columns.str.lower()\n",
    "\n",
    "# Display the first 5 rows of the dataframe\n",
    "df.head()\n"
   ]
  },
  {
   "cell_type": "markdown",
   "id": "b95e9f0e",
   "metadata": {},
   "source": [
    "## Count number of rows and columns in the data frame"
   ]
  },
  {
   "cell_type": "code",
   "execution_count": 3,
   "id": "8c8982fb",
   "metadata": {},
   "outputs": [
    {
     "name": "stdout",
     "output_type": "stream",
     "text": [
      "Dimension: (3980, 19)\n",
      "Number of rows: 3980\n",
      "Number of columns: 19\n"
     ]
    }
   ],
   "source": [
    "# Count number of rows and columns in the data frame\n",
    "# Dimension (rows, columns)\n",
    "print('Dimension:', df.shape)\n",
    "\n",
    "# Number of rows\n",
    "print('Number of rows:', df.shape[0])\n",
    "\n",
    "# Number of columns\n",
    "print('Number of columns:', df.shape[1])"
   ]
  },
  {
   "cell_type": "markdown",
   "id": "ace6d22c",
   "metadata": {},
   "source": [
    "## Get data types (raw-format from web scraper)"
   ]
  },
  {
   "cell_type": "code",
   "execution_count": 14,
   "id": "aada7494",
   "metadata": {},
   "outputs": [
    {
     "data": {
      "text/plain": [
       "url_short                  object\n",
       "offer_id                    int64\n",
       "scrape_dt                  object\n",
       "type                       object\n",
       "price_raw                  object\n",
       "hp_raw                     object\n",
       "init_regist                object\n",
       "mileage_raw                object\n",
       "fuel_type                  object\n",
       "transmission               object\n",
       "dealer_name                object\n",
       "dealer_plz                  int64\n",
       "dealer_city                object\n",
       "dealer_street_house_nr     object\n",
       "dealer_telnr               object\n",
       "init_regist_my             object\n",
       "init_regist_month         float64\n",
       "init_regist_year          float64\n",
       "init_regist_dt             object\n",
       "dtype: object"
      ]
     },
     "execution_count": 14,
     "metadata": {},
     "output_type": "execute_result"
    }
   ],
   "source": [
    "# Get data types of each column\n",
    "df.dtypes"
   ]
  },
  {
   "cell_type": "markdown",
   "id": "9ea951fd",
   "metadata": {},
   "source": [
    "## Extract information from raw data using regular expressions (regex)"
   ]
  },
  {
   "cell_type": "markdown",
   "id": "54e63f6f",
   "metadata": {},
   "source": [
    "### Extract numerical values from mileage_raw"
   ]
  },
  {
   "cell_type": "code",
   "execution_count": 18,
   "id": "cb833795",
   "metadata": {},
   "outputs": [
    {
     "data": {
      "text/html": [
       "<div>\n",
       "<style scoped>\n",
       "    .dataframe tbody tr th:only-of-type {\n",
       "        vertical-align: middle;\n",
       "    }\n",
       "\n",
       "    .dataframe tbody tr th {\n",
       "        vertical-align: top;\n",
       "    }\n",
       "\n",
       "    .dataframe thead th {\n",
       "        text-align: right;\n",
       "    }\n",
       "</style>\n",
       "<table border=\"1\" class=\"dataframe\">\n",
       "  <thead>\n",
       "    <tr style=\"text-align: right;\">\n",
       "      <th></th>\n",
       "      <th>mileage_raw</th>\n",
       "      <th>mileage</th>\n",
       "    </tr>\n",
       "  </thead>\n",
       "  <tbody>\n",
       "    <tr>\n",
       "      <th>0</th>\n",
       "      <td>75'000 km</td>\n",
       "      <td>75000</td>\n",
       "    </tr>\n",
       "    <tr>\n",
       "      <th>1</th>\n",
       "      <td>46'655 km</td>\n",
       "      <td>46655</td>\n",
       "    </tr>\n",
       "    <tr>\n",
       "      <th>2</th>\n",
       "      <td>138'955 km</td>\n",
       "      <td>138955</td>\n",
       "    </tr>\n",
       "    <tr>\n",
       "      <th>3</th>\n",
       "      <td>43'000 km</td>\n",
       "      <td>43000</td>\n",
       "    </tr>\n",
       "    <tr>\n",
       "      <th>4</th>\n",
       "      <td>43'300 km</td>\n",
       "      <td>43300</td>\n",
       "    </tr>\n",
       "  </tbody>\n",
       "</table>\n",
       "</div>"
      ],
      "text/plain": [
       "  mileage_raw  mileage\n",
       "0   75'000 km    75000\n",
       "1   46'655 km    46655\n",
       "2  138'955 km   138955\n",
       "3   43'000 km    43000\n",
       "4   43'300 km    43300"
      ]
     },
     "execution_count": 18,
     "metadata": {},
     "output_type": "execute_result"
    }
   ],
   "source": [
    "# Extract numerical values from mileage_raw\n",
    "mileage = []\n",
    "for i in df['mileage_raw']:\n",
    "    d1 = re.findall(\"\\d+\", i)\n",
    "    try:\n",
    "        d2 = int(''.join(d1))\n",
    "    except:\n",
    "        d2 = None\n",
    "    mileage.append(d2)\n",
    "\n",
    "# Save as new variable in the pandas data frame\n",
    "df['mileage'] = pd.Series(mileage, dtype=\"int64\")\n",
    "\n",
    "# Show first records of data frame\n",
    "df[['mileage_raw', 'mileage']].head()"
   ]
  },
  {
   "cell_type": "markdown",
   "id": "d7f049dc",
   "metadata": {},
   "source": [
    "### Extract numerical values from hp_raw"
   ]
  },
  {
   "cell_type": "code",
   "execution_count": 6,
   "id": "87157a58",
   "metadata": {},
   "outputs": [],
   "source": [
    "# Extract numerical values from mileage_raw\n",
    "\n",
    "\n",
    "# Save as new variable in the pandas data frame\n",
    "\n",
    "\n",
    "# Show first records of data frame\n"
   ]
  },
  {
   "cell_type": "markdown",
   "id": "319ca1bd",
   "metadata": {},
   "source": [
    "### Extract numerical values from price_raw"
   ]
  },
  {
   "cell_type": "code",
   "execution_count": 7,
   "id": "2577e032",
   "metadata": {},
   "outputs": [],
   "source": [
    "# Extract numerical values from mileage_raw\n",
    "\n",
    "\n",
    "# Save as new variable in the pandas data frame\n",
    "\n",
    "\n",
    "# Show first records of data frame\n"
   ]
  },
  {
   "cell_type": "markdown",
   "id": "53c03c80",
   "metadata": {},
   "source": [
    "### Get data types of all variables, including the new once"
   ]
  },
  {
   "cell_type": "code",
   "execution_count": 8,
   "id": "aa64d342",
   "metadata": {},
   "outputs": [],
   "source": [
    "# Get data types of all variables\n"
   ]
  },
  {
   "cell_type": "markdown",
   "id": "bad3c2d0",
   "metadata": {},
   "source": [
    "## Count and remove missing values"
   ]
  },
  {
   "cell_type": "code",
   "execution_count": 9,
   "id": "2cb2e71c",
   "metadata": {},
   "outputs": [],
   "source": [
    "# Count and remove missing values\n",
    "\n",
    "\n",
    "# Reset the index of the dataframe\n"
   ]
  },
  {
   "cell_type": "markdown",
   "id": "92641a30",
   "metadata": {},
   "source": [
    "## Count and remove duplicated values"
   ]
  },
  {
   "cell_type": "code",
   "execution_count": 10,
   "id": "497f0862",
   "metadata": {},
   "outputs": [],
   "source": [
    "# Count and remove duplicates\n",
    "\n",
    "\n",
    "# Reset the index of the dataframe\n"
   ]
  },
  {
   "cell_type": "markdown",
   "id": "35ff8127",
   "metadata": {},
   "source": [
    "## Use string manipulation methods to create additional variables from the car type"
   ]
  },
  {
   "cell_type": "markdown",
   "id": "3e913110",
   "metadata": {},
   "source": [
    "### Change strings in 'type' to uppercase"
   ]
  },
  {
   "cell_type": "code",
   "execution_count": 11,
   "id": "9892b303",
   "metadata": {},
   "outputs": [],
   "source": [
    "# Change strings in 'type' to uppercase and remove leading and trailing whitespaces\n",
    "\n",
    "\n",
    "# Display variable 'type'\n"
   ]
  },
  {
   "cell_type": "markdown",
   "id": "0aad2c21",
   "metadata": {},
   "source": [
    "### Calculate length of strings in 'type'"
   ]
  },
  {
   "cell_type": "code",
   "execution_count": 12,
   "id": "10a83fdd",
   "metadata": {},
   "outputs": [],
   "source": [
    "# Calculate length of strings in 'type'\n",
    "\n",
    "\n",
    "# Display variables 'type' and 'type_len'\n"
   ]
  },
  {
   "cell_type": "markdown",
   "id": "d33d3fd9",
   "metadata": {},
   "source": [
    "### Create binary (0/1) variable 'luxury_car'"
   ]
  },
  {
   "cell_type": "code",
   "execution_count": null,
   "id": "ead7acbe",
   "metadata": {},
   "outputs": [],
   "source": []
  },
  {
   "cell_type": "markdown",
   "id": "48bf12b3",
   "metadata": {},
   "source": [
    "### Create variable 'price_per_hp'"
   ]
  },
  {
   "cell_type": "markdown",
   "id": "f857bfcb",
   "metadata": {},
   "source": []
  },
  {
   "cell_type": "code",
   "execution_count": null,
   "id": "c5090410",
   "metadata": {},
   "outputs": [],
   "source": []
  },
  {
   "cell_type": "markdown",
   "id": "68ea9d52",
   "metadata": {},
   "source": [
    "### Include current datetime as time stamp"
   ]
  },
  {
   "cell_type": "code",
   "execution_count": null,
   "id": "fc2aaaf4",
   "metadata": {},
   "outputs": [],
   "source": []
  },
  {
   "cell_type": "markdown",
   "id": "711a89b8",
   "metadata": {},
   "source": [
    "## Discretization of numerical data"
   ]
  },
  {
   "cell_type": "code",
   "execution_count": null,
   "id": "11798e2d",
   "metadata": {},
   "outputs": [],
   "source": []
  },
  {
   "cell_type": "markdown",
   "id": "83721bac",
   "metadata": {},
   "source": [
    "## One Hot Encoding"
   ]
  },
  {
   "cell_type": "code",
   "execution_count": null,
   "id": "8ce3985e",
   "metadata": {},
   "outputs": [],
   "source": []
  },
  {
   "cell_type": "markdown",
   "id": "b8180797",
   "metadata": {},
   "source": [
    "## Scaling"
   ]
  },
  {
   "cell_type": "markdown",
   "id": "4833f1c7",
   "metadata": {},
   "source": [
    "### Min-Max Scaling"
   ]
  },
  {
   "cell_type": "code",
   "execution_count": null,
   "id": "15262af8",
   "metadata": {},
   "outputs": [],
   "source": []
  },
  {
   "cell_type": "markdown",
   "id": "e41084a3",
   "metadata": {},
   "source": [
    "### Max-Absolute Scaling"
   ]
  },
  {
   "cell_type": "code",
   "execution_count": null,
   "id": "fbb06012",
   "metadata": {},
   "outputs": [],
   "source": []
  },
  {
   "cell_type": "markdown",
   "id": "3a281e86",
   "metadata": {},
   "source": [
    "### Robust Scaling"
   ]
  },
  {
   "cell_type": "code",
   "execution_count": null,
   "id": "faa7e58e",
   "metadata": {},
   "outputs": [],
   "source": []
  },
  {
   "cell_type": "markdown",
   "id": "862fcc01",
   "metadata": {},
   "source": [
    "## Standardization"
   ]
  },
  {
   "cell_type": "markdown",
   "id": "5c29f286",
   "metadata": {},
   "source": [
    "### Z-score Normalization"
   ]
  },
  {
   "cell_type": "code",
   "execution_count": null,
   "id": "88211811",
   "metadata": {},
   "outputs": [],
   "source": []
  },
  {
   "cell_type": "markdown",
   "id": "e2a2800a",
   "metadata": {},
   "source": [
    "## Transformation"
   ]
  },
  {
   "cell_type": "markdown",
   "id": "639cc9b5",
   "metadata": {},
   "source": [
    "### Log-Transformation"
   ]
  },
  {
   "cell_type": "code",
   "execution_count": null,
   "id": "b77943af",
   "metadata": {},
   "outputs": [],
   "source": []
  },
  {
   "cell_type": "markdown",
   "id": "447420c6",
   "metadata": {},
   "source": [
    "### SQRT-Transformation"
   ]
  },
  {
   "cell_type": "code",
   "execution_count": null,
   "id": "47386a41",
   "metadata": {},
   "outputs": [],
   "source": []
  },
  {
   "cell_type": "markdown",
   "id": "639d6d05",
   "metadata": {},
   "source": [
    "### Box-Cox Transformation"
   ]
  },
  {
   "cell_type": "code",
   "execution_count": null,
   "id": "ede50358",
   "metadata": {},
   "outputs": [],
   "source": []
  },
  {
   "cell_type": "markdown",
   "id": "d766870b",
   "metadata": {},
   "source": [
    "## Combining & organizing data"
   ]
  },
  {
   "cell_type": "markdown",
   "id": "03022398",
   "metadata": {},
   "source": [
    "### Reading car data with geocoded addresses"
   ]
  },
  {
   "cell_type": "code",
   "execution_count": null,
   "id": "08a25ad6",
   "metadata": {},
   "outputs": [],
   "source": []
  },
  {
   "cell_type": "markdown",
   "id": "5698a4db",
   "metadata": {},
   "source": [
    "### Join geo-information to car data using .merge()"
   ]
  },
  {
   "cell_type": "code",
   "execution_count": null,
   "id": "bcefb50a",
   "metadata": {},
   "outputs": [],
   "source": []
  },
  {
   "cell_type": "markdown",
   "id": "ec21f353",
   "metadata": {},
   "source": [
    "### Reading municipality-level data from an .xlsx - file"
   ]
  },
  {
   "cell_type": "code",
   "execution_count": null,
   "id": "27a6e0bc",
   "metadata": {},
   "outputs": [],
   "source": []
  },
  {
   "cell_type": "markdown",
   "id": "c8600d9a",
   "metadata": {},
   "source": [
    "### Join municipality-level data to the car data data using .merge()"
   ]
  },
  {
   "cell_type": "code",
   "execution_count": null,
   "id": "c9587146",
   "metadata": {},
   "outputs": [],
   "source": []
  },
  {
   "cell_type": "markdown",
   "id": "791c9563",
   "metadata": {},
   "source": [
    "### Sorting data"
   ]
  },
  {
   "cell_type": "code",
   "execution_count": null,
   "id": "df71d738",
   "metadata": {},
   "outputs": [],
   "source": []
  },
  {
   "cell_type": "markdown",
   "id": "1aa577f9",
   "metadata": {},
   "source": [
    "### Reshaping data"
   ]
  },
  {
   "cell_type": "markdown",
   "id": "2f70bf89",
   "metadata": {},
   "source": [
    "#### Reshaping data using .stack() and .unstack()"
   ]
  },
  {
   "cell_type": "code",
   "execution_count": null,
   "id": "70d142e6",
   "metadata": {},
   "outputs": [],
   "source": []
  },
  {
   "cell_type": "markdown",
   "id": "1db19bde",
   "metadata": {},
   "source": [
    "#### Reshaping data using .melt()"
   ]
  },
  {
   "cell_type": "code",
   "execution_count": null,
   "id": "02e1d544",
   "metadata": {},
   "outputs": [],
   "source": []
  },
  {
   "cell_type": "markdown",
   "id": "c2991e66",
   "metadata": {},
   "source": [
    "### Pivoting data using .pivot_table()"
   ]
  },
  {
   "cell_type": "code",
   "execution_count": null,
   "id": "f1fed1c4",
   "metadata": {},
   "outputs": [],
   "source": []
  },
  {
   "cell_type": "markdown",
   "id": "9cec2fdf",
   "metadata": {},
   "source": [
    "### Jupyter notebook --footer info-- (please always provide this at the end of each notebook)"
   ]
  },
  {
   "cell_type": "code",
   "execution_count": 13,
   "id": "00499ca8",
   "metadata": {},
   "outputs": [
    {
     "name": "stdout",
     "output_type": "stream",
     "text": [
      "-----------------------------------\n",
      "POSIX\n",
      "Linux | 6.5.0-1025-azure\n",
      "Datetime: 2024-11-01 19:22:40\n",
      "Python Version: 3.11.10\n",
      "-----------------------------------\n"
     ]
    }
   ],
   "source": [
    "import os\n",
    "import platform\n",
    "import socket\n",
    "from platform import python_version\n",
    "from datetime import datetime\n",
    "\n",
    "print('-----------------------------------')\n",
    "print(os.name.upper())\n",
    "print(platform.system(), '|', platform.release())\n",
    "print('Datetime:', datetime.now().strftime(\"%Y-%m-%d %H:%M:%S\"))\n",
    "print('Python Version:', python_version())\n",
    "print('-----------------------------------')"
   ]
  }
 ],
 "metadata": {
  "kernelspec": {
   "display_name": "Python 3",
   "language": "python",
   "name": "python3"
  },
  "language_info": {
   "codemirror_mode": {
    "name": "ipython",
    "version": 3
   },
   "file_extension": ".py",
   "mimetype": "text/x-python",
   "name": "python",
   "nbconvert_exporter": "python",
   "pygments_lexer": "ipython3",
   "version": "3.11.10"
  }
 },
 "nbformat": 4,
 "nbformat_minor": 5
}
